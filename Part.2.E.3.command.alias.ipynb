{
 "cells": [
  {
   "cell_type": "markdown",
   "metadata": {},
   "source": [
    "# 使用PowerShell命令的别名"
   ]
  },
  {
   "cell_type": "markdown",
   "metadata": {},
   "source": [
    "## 查看别名"
   ]
  },
  {
   "cell_type": "markdown",
   "metadata": {},
   "source": [
    "PowerShell是支持别名的，也就是说，你可以用别的名字来代替某一个命令来使用。"
   ]
  },
  {
   "cell_type": "markdown",
   "metadata": {},
   "source": [
    "**【例子】**  \n",
    "\n",
    "像现在想清空屏幕上的显示：  \n",
    "\n",
    "![](images/cls_command.png)  \n",
    "\n",
    "回车后，屏幕内容被清空了  \n",
    "\n",
    "![](images/cls_result.png)\n",
    "\n",
    "如果您用过CMD，您可能会知道，可以通过cls这个命令来清空屏幕的显示，我们试着在PowerShell窗口中输入cls，你会发现，同样可以清空屏幕上的显示。\n",
    "\n",
    "那这个过程中发生了什么呢？\n",
    "\n",
    "我们通过命令：\n",
    "\n",
    "```bash\n",
    "Get-Alias cls\n",
    "```\n",
    "\n",
    "可以发现，原来cls是“指向”Clear-Host这个命令的，也就是说其实当你输入cls的时候，执行的还是Clear-Host这个命令。"
   ]
  },
  {
   "cell_type": "markdown",
   "metadata": {},
   "source": [
    "这样的设计有什么意义呢？这就意味着如果你在其他的CLI环境中熟悉的命令，很可能可以直接在PowerShell中保持原来的使用习惯来使用。"
   ]
  },
  {
   "cell_type": "markdown",
   "metadata": {},
   "source": [
    "**【例子】**\n",
    "\n",
    "![](images/dir_alias.png)  \n",
    "\n",
    "你会发现，对于列出当前目录的对象，无论是CMD中的dir还是Linux中的ls，都可以在PowerShell中直接使用。\n",
    "\n",
    "而实际上，他们都是命令Get-ChildItem的Alias\n",
    "\n",
    "![](images/get_childitem_alias.png)\n",
    "\n",
    "如例子中展示的，可以通过命令Get-Alias查看某个alias指向的是哪个cmdlet，也可以通过加参数-Definition来查看某个cmdlet有哪些alias。"
   ]
  },
  {
   "cell_type": "markdown",
   "metadata": {},
   "source": [
    "**【练习】**  \n",
    "如果你原来用过获取内容的命令，试试您熟悉的获取内容的命令在PowerShell中是哪个命令？\n",
    "看看Get-Content这个命令有哪些别名？\n",
    "```\n",
    "PS> Get-Alias -Definition Get-Content\n",
    "\n",
    "CommandType     Name                                               Version    Source\n",
    "-----------     ----                                               -------    ------\n",
    "Alias           cat -> Get-Content\n",
    "Alias           gc -> Get-Content\n",
    "Alias           type -> Get-Content\n",
    "\n",
    "```"
   ]
  },
  {
   "cell_type": "markdown",
   "metadata": {},
   "source": [
    "## 标准别名"
   ]
  },
  {
   "cell_type": "markdown",
   "metadata": {},
   "source": [
    "除了一些能够方便保留使用习惯而存在的别名，PowerShell还内置了一些标准的别名，以替代常用的动名词，以便减少输入，提高便利性。"
   ]
  },
  {
   "cell_type": "markdown",
   "metadata": {},
   "source": [
    "**【例子】**  \n",
    "\n",
    "|Word|Alias|\n",
    "|----------|----|\n",
    "| Get      | g  |\n",
    "| Set      | s  |\n",
    "| Item     | i  |\n",
    "| Location | l  |\n",
    "| Command  | cm |\n",
    "| Alias    | al |\n",
    "\n",
    "对于一些我们之前遇到过的命令：\n",
    "\n",
    "Get-Alias = gal  \n",
    "\n",
    "Get-Command = gcm\n",
    "\n",
    "![](images/alias_gal_gcm.png)"
   ]
  },
  {
   "cell_type": "markdown",
   "metadata": {},
   "source": [
    "**【练习】**  \n",
    "Set-Location是进到某个目录的名字，跟CMD中cd的作用是一样的，你猜猜Set-Location的标准别名是什么呢？"
   ]
  },
  {
   "cell_type": "markdown",
   "metadata": {},
   "source": [
    "## 创建新的别名"
   ]
  },
  {
   "cell_type": "markdown",
   "metadata": {},
   "source": [
    "PowerShell也是支持设置别名的，你可以对某一个cmdlet设置一个自己想用的别名。"
   ]
  },
  {
   "cell_type": "markdown",
   "metadata": {},
   "source": [
    "**【例子】**  \n",
    "\n",
    "比如我就想把power作为Get-Alias的别名\n",
    "\n",
    "![](images/new_alias_1.png)\n",
    "\n",
    "但是对于PowerShell标准的别名是有保护的。  \n",
    "\n",
    "比如我想用Get的g和Item的i这两个标准别名来作为Get-Alias的别名\n",
    "\n",
    "![](images/new_alias_2.png)\n",
    "\n",
    "系统会提示我，gi是个只读别名或常量，无法写入。\n",
    "\n",
    "最后一点，Set-Alias只是对当前窗口会话生效，也就是说，你关闭当前窗口，设置就又恢复了。\n",
    "\n",
    "我重新打开了窗口，发现刚才设定的power这个别名已经失效了。\n",
    "\n",
    "![](images/new_alias_3.png)"
   ]
  },
  {
   "cell_type": "markdown",
   "metadata": {},
   "source": [
    "**【练习】**  \n",
    "给Get-Alias设置一个你喜欢的别名，关闭窗口打开再试试，看看还能不能用？"
   ]
  }
 ],
 "metadata": {
  "kernelspec": {
   "display_name": "Python 3",
   "language": "python",
   "name": "python3"
  },
  "language_info": {
   "codemirror_mode": {
    "name": "ipython",
    "version": 3
   },
   "file_extension": ".py",
   "mimetype": "text/x-python",
   "name": "python",
   "nbconvert_exporter": "python",
   "pygments_lexer": "ipython3",
   "version": "3.7.3"
  },
  "toc-autonumbering": true
 },
 "nbformat": 4,
 "nbformat_minor": 4
}
